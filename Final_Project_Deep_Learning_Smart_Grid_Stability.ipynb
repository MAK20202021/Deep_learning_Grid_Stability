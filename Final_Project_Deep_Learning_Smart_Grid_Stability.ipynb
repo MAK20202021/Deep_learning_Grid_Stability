{
 "cells": [
  {
   "cell_type": "markdown",
   "metadata": {},
   "source": [
    "# Predicting Smart Grid Stability"
   ]
  },
  {
   "cell_type": "markdown",
   "metadata": {},
   "source": [
    "<p style=\"text-align: justify\">This notebook is based on the \"<b>Electrical Grid Stability Simulated Dataset</b>\", created by Vadim Arzamasov (Karlsruher Institut für Technologie, Karlsruhe, Germany) and donated to the <b>University of California (UCI) Machine Learning Repository</b> (link <a href=\"https://archive.ics.uci.edu/ml/datasets/Electrical+Grid+Stability+Simulated+Data+#\">here</a>), where it is currently hosted.</p> Learning from the project (link <a \n",
    "href=\"https://www.kaggle.com/code/pcbreviglieri/predicting-smart-grid-stability-with-deep-learning\">here</a>)\n",
    "we evaluate the different algorithms with the same dataset here to do more analysis in deep learning."
   ]
  },
  {
   "cell_type": "markdown",
   "metadata": {},
   "source": [
    "The Smart Grid system is described as follows with three consumption nodes and one renewable generation node."
   ]
  },
  {
   "cell_type": "markdown",
   "metadata": {},
   "source": [
    "<img src=\"https://i.imgur.com/hvmW0cg.png\" width=\"500\" height=\"100\">"
   ]
  },
  {
   "cell_type": "markdown",
   "metadata": {},
   "source": [
    "## Objectives of this exercise"
   ]
  },
  {
   "cell_type": "markdown",
   "metadata": {},
   "source": [
    "The Main objective of the analysis is to focus on a specific type of Deep Learning and the benefits that this analysis brings to the business or stakeholders of this data is to predict the stability of grid more accurately."
   ]
  },
  {
   "cell_type": "markdown",
   "metadata": {},
   "source": [
    "## Brief description of the data set "
   ]
  },
  {
   "cell_type": "markdown",
   "metadata": {},
   "source": [
    "<p style=\"text-align: justify\">The dataset chosen for this machine learning exercise has a synthetic nature and contains results from simulations of grid stability for a reference 4-node star network.</p>\n",
    "<p style=\"text-align: justify\">The original dataset contains 10,000 observations. As the reference grid is symetric, the dataset can be augmented in 3! (3 factorial) times, or 6 times, representing a permutation of the three consumers occupying three consumer nodes. The augmented version has then <b>60,000 observations</b>. It also contains <b>12 primary predictive features</b> and two dependent variables. </p>\n",
    "<p><b>Predictive features</b>:</p>\n",
    "<ol>\n",
    "    <li>'tau1' to 'tau4': the reaction time of each network participant, a real value within the range 0.5 to 10 ('tau1' corresponds to the supplier node, 'tau2' to 'tau4' to the consumer nodes);</li>\n",
    "    <li>'p1' to 'p4': nominal power produced (positive) or consumed (negative) by each network participant, a real value within the range -2.0 to -0.5 for consumers ('p2' to 'p4'). As the total power consumed equals the total power generated, p1 (supplier node) = - (p2 + p3 + p4);</li>\n",
    "    <li>'g1' to 'g4': price elasticity coefficient for each network participant, a real value within the range 0.05 to 1.00 ('g1' corresponds to the supplier node, 'g2' to 'g4' to the consumer nodes; 'g' stands for 'gamma');</li>\n",
    "</ol>\n",
    "<p><b>Dependent variables</b>:</p>\n",
    "<ol>\n",
    "    <li>'stab': the maximum real part of the characteristic differentia equation root (if positive, the system is linearly unstable; if negative, linearly stable);</li>\n",
    "    <li>'stabf': a categorical (binary) label ('stable' or 'unstable').</li>\n",
    "</ol>\n",
    "<p style=\"text-align: justify\">As there is a direct relationship between 'stab' and 'stabf' ('stabf' = 'stable' if 'stab' <= 0, 'unstable' otherwise), 'stab' will be dropped and 'stabf' will remain as the sole dependent variable.</p>\n",
    "<p style=\"text-align: justify\">As the dataset content comes from simulation exercises, there are no missing values. Also, all features are originally numerical, no feature coding is required. Such dataset properties allow for a direct jump to machine modeling without the need of data preprocessing or feature engineering.</p>"
   ]
  },
  {
   "cell_type": "markdown",
   "metadata": {},
   "source": [
    "## Exploratory  Data Analysis"
   ]
  },
  {
   "cell_type": "code",
   "execution_count": 48,
   "metadata": {},
   "outputs": [],
   "source": [
    "import numpy as np\n",
    "import matplotlib.pyplot as plt\n",
    "import seaborn as sns\n",
    "import pandas as pd\n",
    "\n",
    "from sklearn.model_selection import train_test_split\n",
    "from sklearn.preprocessing import StandardScaler\n",
    "from sklearn.metrics import confusion_matrix, precision_recall_curve, roc_auc_score, roc_curve, accuracy_score\n",
    "\n",
    "## Import Keras objects for Deep Learning\n",
    "from tensorflow.keras.models  import Sequential\n",
    "from tensorflow.keras.layers import Input, Dense, Flatten, Dropout, BatchNormalization\n",
    "from tensorflow.keras.optimizers import Adam, SGD, RMSprop\n",
    "\n",
    "from datetime import datetime"
   ]
  },
  {
   "cell_type": "markdown",
   "metadata": {},
   "source": [
    "<p style=\"text-align: justify\">The augmented dataset (60,000 observations) is imported.</p>"
   ]
  },
  {
   "cell_type": "code",
   "execution_count": 49,
   "metadata": {},
   "outputs": [],
   "source": [
    "sns.set()\n",
    "start_time = datetime.now()\n",
    "\n",
    "data = pd.read_csv('./smart_grid_stability_augmented.csv')\n"
   ]
  },
  {
   "cell_type": "code",
   "execution_count": 50,
   "metadata": {},
   "outputs": [
    {
     "data": {
      "text/html": [
       "<div>\n",
       "<style scoped>\n",
       "    .dataframe tbody tr th:only-of-type {\n",
       "        vertical-align: middle;\n",
       "    }\n",
       "\n",
       "    .dataframe tbody tr th {\n",
       "        vertical-align: top;\n",
       "    }\n",
       "\n",
       "    .dataframe thead th {\n",
       "        text-align: right;\n",
       "    }\n",
       "</style>\n",
       "<table border=\"1\" class=\"dataframe\">\n",
       "  <thead>\n",
       "    <tr style=\"text-align: right;\">\n",
       "      <th></th>\n",
       "      <th>tau1</th>\n",
       "      <th>tau2</th>\n",
       "      <th>tau3</th>\n",
       "      <th>tau4</th>\n",
       "      <th>p1</th>\n",
       "      <th>p2</th>\n",
       "      <th>p3</th>\n",
       "      <th>p4</th>\n",
       "      <th>g1</th>\n",
       "      <th>g2</th>\n",
       "      <th>g3</th>\n",
       "      <th>g4</th>\n",
       "      <th>stab</th>\n",
       "      <th>stabf</th>\n",
       "    </tr>\n",
       "  </thead>\n",
       "  <tbody>\n",
       "    <tr>\n",
       "      <th>0</th>\n",
       "      <td>2.959060</td>\n",
       "      <td>3.079885</td>\n",
       "      <td>8.381025</td>\n",
       "      <td>9.780754</td>\n",
       "      <td>3.763085</td>\n",
       "      <td>-0.782604</td>\n",
       "      <td>-1.257395</td>\n",
       "      <td>-1.723086</td>\n",
       "      <td>0.650456</td>\n",
       "      <td>0.859578</td>\n",
       "      <td>0.887445</td>\n",
       "      <td>0.958034</td>\n",
       "      <td>0.055347</td>\n",
       "      <td>unstable</td>\n",
       "    </tr>\n",
       "    <tr>\n",
       "      <th>1</th>\n",
       "      <td>9.304097</td>\n",
       "      <td>4.902524</td>\n",
       "      <td>3.047541</td>\n",
       "      <td>1.369357</td>\n",
       "      <td>5.067812</td>\n",
       "      <td>-1.940058</td>\n",
       "      <td>-1.872742</td>\n",
       "      <td>-1.255012</td>\n",
       "      <td>0.413441</td>\n",
       "      <td>0.862414</td>\n",
       "      <td>0.562139</td>\n",
       "      <td>0.781760</td>\n",
       "      <td>-0.005957</td>\n",
       "      <td>stable</td>\n",
       "    </tr>\n",
       "    <tr>\n",
       "      <th>2</th>\n",
       "      <td>8.971707</td>\n",
       "      <td>8.848428</td>\n",
       "      <td>3.046479</td>\n",
       "      <td>1.214518</td>\n",
       "      <td>3.405158</td>\n",
       "      <td>-1.207456</td>\n",
       "      <td>-1.277210</td>\n",
       "      <td>-0.920492</td>\n",
       "      <td>0.163041</td>\n",
       "      <td>0.766689</td>\n",
       "      <td>0.839444</td>\n",
       "      <td>0.109853</td>\n",
       "      <td>0.003471</td>\n",
       "      <td>unstable</td>\n",
       "    </tr>\n",
       "    <tr>\n",
       "      <th>3</th>\n",
       "      <td>0.716415</td>\n",
       "      <td>7.669600</td>\n",
       "      <td>4.486641</td>\n",
       "      <td>2.340563</td>\n",
       "      <td>3.963791</td>\n",
       "      <td>-1.027473</td>\n",
       "      <td>-1.938944</td>\n",
       "      <td>-0.997374</td>\n",
       "      <td>0.446209</td>\n",
       "      <td>0.976744</td>\n",
       "      <td>0.929381</td>\n",
       "      <td>0.362718</td>\n",
       "      <td>0.028871</td>\n",
       "      <td>unstable</td>\n",
       "    </tr>\n",
       "    <tr>\n",
       "      <th>4</th>\n",
       "      <td>3.134112</td>\n",
       "      <td>7.608772</td>\n",
       "      <td>4.943759</td>\n",
       "      <td>9.857573</td>\n",
       "      <td>3.525811</td>\n",
       "      <td>-1.125531</td>\n",
       "      <td>-1.845975</td>\n",
       "      <td>-0.554305</td>\n",
       "      <td>0.797110</td>\n",
       "      <td>0.455450</td>\n",
       "      <td>0.656947</td>\n",
       "      <td>0.820923</td>\n",
       "      <td>0.049860</td>\n",
       "      <td>unstable</td>\n",
       "    </tr>\n",
       "  </tbody>\n",
       "</table>\n",
       "</div>"
      ],
      "text/plain": [
       "       tau1      tau2      tau3      tau4        p1        p2        p3  \\\n",
       "0  2.959060  3.079885  8.381025  9.780754  3.763085 -0.782604 -1.257395   \n",
       "1  9.304097  4.902524  3.047541  1.369357  5.067812 -1.940058 -1.872742   \n",
       "2  8.971707  8.848428  3.046479  1.214518  3.405158 -1.207456 -1.277210   \n",
       "3  0.716415  7.669600  4.486641  2.340563  3.963791 -1.027473 -1.938944   \n",
       "4  3.134112  7.608772  4.943759  9.857573  3.525811 -1.125531 -1.845975   \n",
       "\n",
       "         p4        g1        g2        g3        g4      stab     stabf  \n",
       "0 -1.723086  0.650456  0.859578  0.887445  0.958034  0.055347  unstable  \n",
       "1 -1.255012  0.413441  0.862414  0.562139  0.781760 -0.005957    stable  \n",
       "2 -0.920492  0.163041  0.766689  0.839444  0.109853  0.003471  unstable  \n",
       "3 -0.997374  0.446209  0.976744  0.929381  0.362718  0.028871  unstable  \n",
       "4 -0.554305  0.797110  0.455450  0.656947  0.820923  0.049860  unstable  "
      ]
     },
     "execution_count": 50,
     "metadata": {},
     "output_type": "execute_result"
    }
   ],
   "source": [
    "data.head()"
   ]
  },
  {
   "cell_type": "code",
   "execution_count": 51,
   "metadata": {},
   "outputs": [
    {
     "name": "stdout",
     "output_type": "stream",
     "text": [
      "<class 'pandas.core.frame.DataFrame'>\n",
      "RangeIndex: 60000 entries, 0 to 59999\n",
      "Data columns (total 14 columns):\n",
      " #   Column  Non-Null Count  Dtype  \n",
      "---  ------  --------------  -----  \n",
      " 0   tau1    60000 non-null  float64\n",
      " 1   tau2    60000 non-null  float64\n",
      " 2   tau3    60000 non-null  float64\n",
      " 3   tau4    60000 non-null  float64\n",
      " 4   p1      60000 non-null  float64\n",
      " 5   p2      60000 non-null  float64\n",
      " 6   p3      60000 non-null  float64\n",
      " 7   p4      60000 non-null  float64\n",
      " 8   g1      60000 non-null  float64\n",
      " 9   g2      60000 non-null  float64\n",
      " 10  g3      60000 non-null  float64\n",
      " 11  g4      60000 non-null  float64\n",
      " 12  stab    60000 non-null  float64\n",
      " 13  stabf   60000 non-null  object \n",
      "dtypes: float64(13), object(1)\n",
      "memory usage: 6.4+ MB\n"
     ]
    }
   ],
   "source": [
    "data.info()"
   ]
  },
  {
   "cell_type": "markdown",
   "metadata": {},
   "source": [
    "The dependent variable is map encoded ('stable' replaced with 1, 'unstable' with 0). At last, the 60,000 observations are shuffled."
   ]
  },
  {
   "cell_type": "code",
   "execution_count": 52,
   "metadata": {},
   "outputs": [],
   "source": [
    "map1 = {'unstable': 0, 'stable': 1}\n",
    "data['stabf'] = data['stabf'].replace(map1)\n",
    "\n",
    "data = data.sample(frac=1)"
   ]
  },
  {
   "cell_type": "code",
   "execution_count": 53,
   "metadata": {
    "scrolled": true
   },
   "outputs": [
    {
     "data": {
      "text/html": [
       "<div>\n",
       "<style scoped>\n",
       "    .dataframe tbody tr th:only-of-type {\n",
       "        vertical-align: middle;\n",
       "    }\n",
       "\n",
       "    .dataframe tbody tr th {\n",
       "        vertical-align: top;\n",
       "    }\n",
       "\n",
       "    .dataframe thead th {\n",
       "        text-align: right;\n",
       "    }\n",
       "</style>\n",
       "<table border=\"1\" class=\"dataframe\">\n",
       "  <thead>\n",
       "    <tr style=\"text-align: right;\">\n",
       "      <th></th>\n",
       "      <th>tau1</th>\n",
       "      <th>tau2</th>\n",
       "      <th>tau3</th>\n",
       "      <th>tau4</th>\n",
       "      <th>p1</th>\n",
       "      <th>p2</th>\n",
       "      <th>p3</th>\n",
       "      <th>p4</th>\n",
       "      <th>g1</th>\n",
       "      <th>g2</th>\n",
       "      <th>g3</th>\n",
       "      <th>g4</th>\n",
       "      <th>stab</th>\n",
       "      <th>stabf</th>\n",
       "    </tr>\n",
       "  </thead>\n",
       "  <tbody>\n",
       "    <tr>\n",
       "      <th>1576</th>\n",
       "      <td>7.589726</td>\n",
       "      <td>7.334232</td>\n",
       "      <td>3.888468</td>\n",
       "      <td>1.614712</td>\n",
       "      <td>3.414727</td>\n",
       "      <td>-0.887893</td>\n",
       "      <td>-1.240917</td>\n",
       "      <td>-1.285917</td>\n",
       "      <td>0.235765</td>\n",
       "      <td>0.678952</td>\n",
       "      <td>0.183857</td>\n",
       "      <td>0.506624</td>\n",
       "      <td>-0.009720</td>\n",
       "      <td>1</td>\n",
       "    </tr>\n",
       "    <tr>\n",
       "      <th>22563</th>\n",
       "      <td>0.672029</td>\n",
       "      <td>3.740985</td>\n",
       "      <td>8.657039</td>\n",
       "      <td>5.808404</td>\n",
       "      <td>3.851821</td>\n",
       "      <td>-1.140452</td>\n",
       "      <td>-1.175718</td>\n",
       "      <td>-1.535652</td>\n",
       "      <td>0.560357</td>\n",
       "      <td>0.275093</td>\n",
       "      <td>0.564756</td>\n",
       "      <td>0.190414</td>\n",
       "      <td>-0.034273</td>\n",
       "      <td>1</td>\n",
       "    </tr>\n",
       "    <tr>\n",
       "      <th>56945</th>\n",
       "      <td>6.913046</td>\n",
       "      <td>3.738946</td>\n",
       "      <td>2.015020</td>\n",
       "      <td>0.725520</td>\n",
       "      <td>2.960418</td>\n",
       "      <td>-1.729515</td>\n",
       "      <td>-0.642648</td>\n",
       "      <td>-0.588255</td>\n",
       "      <td>0.232532</td>\n",
       "      <td>0.862134</td>\n",
       "      <td>0.620180</td>\n",
       "      <td>0.691592</td>\n",
       "      <td>-0.039918</td>\n",
       "      <td>1</td>\n",
       "    </tr>\n",
       "    <tr>\n",
       "      <th>54750</th>\n",
       "      <td>4.585690</td>\n",
       "      <td>4.133391</td>\n",
       "      <td>8.733741</td>\n",
       "      <td>2.433056</td>\n",
       "      <td>4.545806</td>\n",
       "      <td>-0.760712</td>\n",
       "      <td>-1.795753</td>\n",
       "      <td>-1.989341</td>\n",
       "      <td>0.749258</td>\n",
       "      <td>0.769378</td>\n",
       "      <td>0.051526</td>\n",
       "      <td>0.568069</td>\n",
       "      <td>0.029752</td>\n",
       "      <td>0</td>\n",
       "    </tr>\n",
       "    <tr>\n",
       "      <th>43664</th>\n",
       "      <td>6.308387</td>\n",
       "      <td>0.546782</td>\n",
       "      <td>8.967333</td>\n",
       "      <td>6.480536</td>\n",
       "      <td>3.655075</td>\n",
       "      <td>-1.304979</td>\n",
       "      <td>-1.750637</td>\n",
       "      <td>-0.599459</td>\n",
       "      <td>0.328626</td>\n",
       "      <td>0.159850</td>\n",
       "      <td>0.684227</td>\n",
       "      <td>0.488982</td>\n",
       "      <td>0.023936</td>\n",
       "      <td>0</td>\n",
       "    </tr>\n",
       "  </tbody>\n",
       "</table>\n",
       "</div>"
      ],
      "text/plain": [
       "           tau1      tau2      tau3      tau4        p1        p2        p3  \\\n",
       "1576   7.589726  7.334232  3.888468  1.614712  3.414727 -0.887893 -1.240917   \n",
       "22563  0.672029  3.740985  8.657039  5.808404  3.851821 -1.140452 -1.175718   \n",
       "56945  6.913046  3.738946  2.015020  0.725520  2.960418 -1.729515 -0.642648   \n",
       "54750  4.585690  4.133391  8.733741  2.433056  4.545806 -0.760712 -1.795753   \n",
       "43664  6.308387  0.546782  8.967333  6.480536  3.655075 -1.304979 -1.750637   \n",
       "\n",
       "             p4        g1        g2        g3        g4      stab  stabf  \n",
       "1576  -1.285917  0.235765  0.678952  0.183857  0.506624 -0.009720      1  \n",
       "22563 -1.535652  0.560357  0.275093  0.564756  0.190414 -0.034273      1  \n",
       "56945 -0.588255  0.232532  0.862134  0.620180  0.691592 -0.039918      1  \n",
       "54750 -1.989341  0.749258  0.769378  0.051526  0.568069  0.029752      0  \n",
       "43664 -0.599459  0.328626  0.159850  0.684227  0.488982  0.023936      0  "
      ]
     },
     "execution_count": 53,
     "metadata": {},
     "output_type": "execute_result"
    }
   ],
   "source": [
    "data.head()"
   ]
  },
  {
   "cell_type": "code",
   "execution_count": 54,
   "metadata": {},
   "outputs": [
    {
     "data": {
      "text/html": [
       "<div>\n",
       "<style scoped>\n",
       "    .dataframe tbody tr th:only-of-type {\n",
       "        vertical-align: middle;\n",
       "    }\n",
       "\n",
       "    .dataframe tbody tr th {\n",
       "        vertical-align: top;\n",
       "    }\n",
       "\n",
       "    .dataframe thead th {\n",
       "        text-align: right;\n",
       "    }\n",
       "</style>\n",
       "<table border=\"1\" class=\"dataframe\">\n",
       "  <thead>\n",
       "    <tr style=\"text-align: right;\">\n",
       "      <th></th>\n",
       "      <th>tau1</th>\n",
       "      <th>tau2</th>\n",
       "      <th>tau3</th>\n",
       "      <th>tau4</th>\n",
       "      <th>p1</th>\n",
       "      <th>p2</th>\n",
       "      <th>p3</th>\n",
       "      <th>p4</th>\n",
       "      <th>g1</th>\n",
       "      <th>g2</th>\n",
       "      <th>g3</th>\n",
       "      <th>g4</th>\n",
       "      <th>stab</th>\n",
       "      <th>stabf</th>\n",
       "    </tr>\n",
       "  </thead>\n",
       "  <tbody>\n",
       "    <tr>\n",
       "      <th>count</th>\n",
       "      <td>60000.000000</td>\n",
       "      <td>60000.000000</td>\n",
       "      <td>60000.000000</td>\n",
       "      <td>60000.000000</td>\n",
       "      <td>60000.000000</td>\n",
       "      <td>60000.000000</td>\n",
       "      <td>60000.000000</td>\n",
       "      <td>60000.000000</td>\n",
       "      <td>60000.000000</td>\n",
       "      <td>60000.000000</td>\n",
       "      <td>60000.000000</td>\n",
       "      <td>60000.000000</td>\n",
       "      <td>60000.000000</td>\n",
       "      <td>60000.000000</td>\n",
       "    </tr>\n",
       "    <tr>\n",
       "      <th>mean</th>\n",
       "      <td>5.250000</td>\n",
       "      <td>5.250001</td>\n",
       "      <td>5.250001</td>\n",
       "      <td>5.250001</td>\n",
       "      <td>3.750000</td>\n",
       "      <td>-1.250000</td>\n",
       "      <td>-1.250000</td>\n",
       "      <td>-1.250000</td>\n",
       "      <td>0.525000</td>\n",
       "      <td>0.525000</td>\n",
       "      <td>0.525000</td>\n",
       "      <td>0.525000</td>\n",
       "      <td>0.015731</td>\n",
       "      <td>0.362000</td>\n",
       "    </tr>\n",
       "    <tr>\n",
       "      <th>std</th>\n",
       "      <td>2.742434</td>\n",
       "      <td>2.742437</td>\n",
       "      <td>2.742437</td>\n",
       "      <td>2.742437</td>\n",
       "      <td>0.752129</td>\n",
       "      <td>0.433017</td>\n",
       "      <td>0.433017</td>\n",
       "      <td>0.433017</td>\n",
       "      <td>0.274244</td>\n",
       "      <td>0.274243</td>\n",
       "      <td>0.274243</td>\n",
       "      <td>0.274243</td>\n",
       "      <td>0.036917</td>\n",
       "      <td>0.480583</td>\n",
       "    </tr>\n",
       "    <tr>\n",
       "      <th>min</th>\n",
       "      <td>0.500793</td>\n",
       "      <td>0.500141</td>\n",
       "      <td>0.500141</td>\n",
       "      <td>0.500141</td>\n",
       "      <td>1.582590</td>\n",
       "      <td>-1.999945</td>\n",
       "      <td>-1.999945</td>\n",
       "      <td>-1.999945</td>\n",
       "      <td>0.050009</td>\n",
       "      <td>0.050028</td>\n",
       "      <td>0.050028</td>\n",
       "      <td>0.050028</td>\n",
       "      <td>-0.080760</td>\n",
       "      <td>0.000000</td>\n",
       "    </tr>\n",
       "    <tr>\n",
       "      <th>25%</th>\n",
       "      <td>2.874892</td>\n",
       "      <td>2.875011</td>\n",
       "      <td>2.875011</td>\n",
       "      <td>2.875011</td>\n",
       "      <td>3.218300</td>\n",
       "      <td>-1.624997</td>\n",
       "      <td>-1.624997</td>\n",
       "      <td>-1.624997</td>\n",
       "      <td>0.287521</td>\n",
       "      <td>0.287497</td>\n",
       "      <td>0.287497</td>\n",
       "      <td>0.287497</td>\n",
       "      <td>-0.015557</td>\n",
       "      <td>0.000000</td>\n",
       "    </tr>\n",
       "    <tr>\n",
       "      <th>50%</th>\n",
       "      <td>5.250004</td>\n",
       "      <td>5.249981</td>\n",
       "      <td>5.249981</td>\n",
       "      <td>5.249981</td>\n",
       "      <td>3.751025</td>\n",
       "      <td>-1.249996</td>\n",
       "      <td>-1.249996</td>\n",
       "      <td>-1.249996</td>\n",
       "      <td>0.525009</td>\n",
       "      <td>0.525007</td>\n",
       "      <td>0.525007</td>\n",
       "      <td>0.525007</td>\n",
       "      <td>0.017142</td>\n",
       "      <td>0.000000</td>\n",
       "    </tr>\n",
       "    <tr>\n",
       "      <th>75%</th>\n",
       "      <td>7.624690</td>\n",
       "      <td>7.624896</td>\n",
       "      <td>7.624896</td>\n",
       "      <td>7.624896</td>\n",
       "      <td>4.282420</td>\n",
       "      <td>-0.874993</td>\n",
       "      <td>-0.874993</td>\n",
       "      <td>-0.874993</td>\n",
       "      <td>0.762435</td>\n",
       "      <td>0.762490</td>\n",
       "      <td>0.762490</td>\n",
       "      <td>0.762490</td>\n",
       "      <td>0.044878</td>\n",
       "      <td>1.000000</td>\n",
       "    </tr>\n",
       "    <tr>\n",
       "      <th>max</th>\n",
       "      <td>9.999469</td>\n",
       "      <td>9.999837</td>\n",
       "      <td>9.999837</td>\n",
       "      <td>9.999837</td>\n",
       "      <td>5.864418</td>\n",
       "      <td>-0.500025</td>\n",
       "      <td>-0.500025</td>\n",
       "      <td>-0.500025</td>\n",
       "      <td>0.999937</td>\n",
       "      <td>0.999982</td>\n",
       "      <td>0.999982</td>\n",
       "      <td>0.999982</td>\n",
       "      <td>0.109403</td>\n",
       "      <td>1.000000</td>\n",
       "    </tr>\n",
       "  </tbody>\n",
       "</table>\n",
       "</div>"
      ],
      "text/plain": [
       "               tau1          tau2          tau3          tau4            p1  \\\n",
       "count  60000.000000  60000.000000  60000.000000  60000.000000  60000.000000   \n",
       "mean       5.250000      5.250001      5.250001      5.250001      3.750000   \n",
       "std        2.742434      2.742437      2.742437      2.742437      0.752129   \n",
       "min        0.500793      0.500141      0.500141      0.500141      1.582590   \n",
       "25%        2.874892      2.875011      2.875011      2.875011      3.218300   \n",
       "50%        5.250004      5.249981      5.249981      5.249981      3.751025   \n",
       "75%        7.624690      7.624896      7.624896      7.624896      4.282420   \n",
       "max        9.999469      9.999837      9.999837      9.999837      5.864418   \n",
       "\n",
       "                 p2            p3            p4            g1            g2  \\\n",
       "count  60000.000000  60000.000000  60000.000000  60000.000000  60000.000000   \n",
       "mean      -1.250000     -1.250000     -1.250000      0.525000      0.525000   \n",
       "std        0.433017      0.433017      0.433017      0.274244      0.274243   \n",
       "min       -1.999945     -1.999945     -1.999945      0.050009      0.050028   \n",
       "25%       -1.624997     -1.624997     -1.624997      0.287521      0.287497   \n",
       "50%       -1.249996     -1.249996     -1.249996      0.525009      0.525007   \n",
       "75%       -0.874993     -0.874993     -0.874993      0.762435      0.762490   \n",
       "max       -0.500025     -0.500025     -0.500025      0.999937      0.999982   \n",
       "\n",
       "                 g3            g4          stab         stabf  \n",
       "count  60000.000000  60000.000000  60000.000000  60000.000000  \n",
       "mean       0.525000      0.525000      0.015731      0.362000  \n",
       "std        0.274243      0.274243      0.036917      0.480583  \n",
       "min        0.050028      0.050028     -0.080760      0.000000  \n",
       "25%        0.287497      0.287497     -0.015557      0.000000  \n",
       "50%        0.525007      0.525007      0.017142      0.000000  \n",
       "75%        0.762490      0.762490      0.044878      1.000000  \n",
       "max        0.999982      0.999982      0.109403      1.000000  "
      ]
     },
     "execution_count": 54,
     "metadata": {},
     "output_type": "execute_result"
    }
   ],
   "source": [
    "data.describe()"
   ]
  },
  {
   "cell_type": "code",
   "execution_count": 55,
   "metadata": {},
   "outputs": [
    {
     "data": {
      "text/plain": [
       "-0.012688423269883422"
      ]
     },
     "execution_count": 55,
     "metadata": {},
     "output_type": "execute_result"
    }
   ],
   "source": [
    "data.p1.skew()"
   ]
  },
  {
   "cell_type": "code",
   "execution_count": 56,
   "metadata": {},
   "outputs": [
    {
     "data": {
      "text/plain": [
       "(60000, 14)"
      ]
     },
     "execution_count": 56,
     "metadata": {},
     "output_type": "execute_result"
    }
   ],
   "source": [
    "data.shape"
   ]
  },
  {
   "cell_type": "markdown",
   "metadata": {},
   "source": [
    "<p style=\"text-align: justify\">The proportion of observations related to 'unstable' and 'stable' scenarios is mapped.</p>"
   ]
  },
  {
   "cell_type": "code",
   "execution_count": 57,
   "metadata": {},
   "outputs": [
    {
     "name": "stdout",
     "output_type": "stream",
     "text": [
      "Split of \"unstable\" (0) and \"stable\" (1) observations in the original dataset:\n",
      "0    0.638\n",
      "1    0.362\n",
      "Name: stabf, dtype: float64\n"
     ]
    }
   ],
   "source": [
    "print(f'Split of \"unstable\" (0) and \"stable\" (1) observations in the original dataset:')\n",
    "print(data['stabf'].value_counts(normalize=True))"
   ]
  },
  {
   "cell_type": "markdown",
   "metadata": {},
   "source": [
    "It is important to verify the correlation between each numerical feature and the dependent variable."
   ]
  },
  {
   "cell_type": "code",
   "execution_count": 58,
   "metadata": {
    "scrolled": true
   },
   "outputs": [
    {
     "data": {
      "text/html": [
       "<div>\n",
       "<style scoped>\n",
       "    .dataframe tbody tr th:only-of-type {\n",
       "        vertical-align: middle;\n",
       "    }\n",
       "\n",
       "    .dataframe tbody tr th {\n",
       "        vertical-align: top;\n",
       "    }\n",
       "\n",
       "    .dataframe thead th {\n",
       "        text-align: right;\n",
       "    }\n",
       "</style>\n",
       "<table border=\"1\" class=\"dataframe\">\n",
       "  <thead>\n",
       "    <tr style=\"text-align: right;\">\n",
       "      <th></th>\n",
       "      <th>tau1</th>\n",
       "      <th>tau2</th>\n",
       "      <th>tau3</th>\n",
       "      <th>tau4</th>\n",
       "      <th>p1</th>\n",
       "      <th>p2</th>\n",
       "      <th>p3</th>\n",
       "      <th>p4</th>\n",
       "      <th>g1</th>\n",
       "      <th>g2</th>\n",
       "      <th>g3</th>\n",
       "      <th>g4</th>\n",
       "      <th>stab</th>\n",
       "      <th>stabf</th>\n",
       "    </tr>\n",
       "  </thead>\n",
       "  <tbody>\n",
       "    <tr>\n",
       "      <th>tau1</th>\n",
       "      <td>1.000000</td>\n",
       "      <td>-0.002550</td>\n",
       "      <td>-0.002550</td>\n",
       "      <td>-0.002550</td>\n",
       "      <td>0.027183</td>\n",
       "      <td>-0.015739</td>\n",
       "      <td>-0.015739</td>\n",
       "      <td>-0.015739</td>\n",
       "      <td>0.010521</td>\n",
       "      <td>0.006522</td>\n",
       "      <td>0.006522</td>\n",
       "      <td>0.006522</td>\n",
       "      <td>0.275761</td>\n",
       "      <td>-0.234898</td>\n",
       "    </tr>\n",
       "    <tr>\n",
       "      <th>tau2</th>\n",
       "      <td>-0.002550</td>\n",
       "      <td>1.000000</td>\n",
       "      <td>0.005554</td>\n",
       "      <td>0.005554</td>\n",
       "      <td>0.003004</td>\n",
       "      <td>-0.004473</td>\n",
       "      <td>-0.000372</td>\n",
       "      <td>-0.000372</td>\n",
       "      <td>-0.005832</td>\n",
       "      <td>0.009865</td>\n",
       "      <td>0.002102</td>\n",
       "      <td>0.002102</td>\n",
       "      <td>0.283417</td>\n",
       "      <td>-0.241049</td>\n",
       "    </tr>\n",
       "    <tr>\n",
       "      <th>tau3</th>\n",
       "      <td>-0.002550</td>\n",
       "      <td>0.005554</td>\n",
       "      <td>1.000000</td>\n",
       "      <td>0.005554</td>\n",
       "      <td>0.003004</td>\n",
       "      <td>-0.000372</td>\n",
       "      <td>-0.004473</td>\n",
       "      <td>-0.000372</td>\n",
       "      <td>-0.005832</td>\n",
       "      <td>0.002102</td>\n",
       "      <td>0.009865</td>\n",
       "      <td>0.002102</td>\n",
       "      <td>0.283417</td>\n",
       "      <td>-0.241049</td>\n",
       "    </tr>\n",
       "    <tr>\n",
       "      <th>tau4</th>\n",
       "      <td>-0.002550</td>\n",
       "      <td>0.005554</td>\n",
       "      <td>0.005554</td>\n",
       "      <td>1.000000</td>\n",
       "      <td>0.003004</td>\n",
       "      <td>-0.000372</td>\n",
       "      <td>-0.000372</td>\n",
       "      <td>-0.004473</td>\n",
       "      <td>-0.005832</td>\n",
       "      <td>0.002102</td>\n",
       "      <td>0.002102</td>\n",
       "      <td>0.009865</td>\n",
       "      <td>0.283417</td>\n",
       "      <td>-0.241049</td>\n",
       "    </tr>\n",
       "    <tr>\n",
       "      <th>p1</th>\n",
       "      <td>0.027183</td>\n",
       "      <td>0.003004</td>\n",
       "      <td>0.003004</td>\n",
       "      <td>0.003004</td>\n",
       "      <td>1.000000</td>\n",
       "      <td>-0.578983</td>\n",
       "      <td>-0.578983</td>\n",
       "      <td>-0.578983</td>\n",
       "      <td>0.000721</td>\n",
       "      <td>0.000341</td>\n",
       "      <td>0.000341</td>\n",
       "      <td>0.000341</td>\n",
       "      <td>0.010278</td>\n",
       "      <td>-0.009938</td>\n",
       "    </tr>\n",
       "    <tr>\n",
       "      <th>p2</th>\n",
       "      <td>-0.015739</td>\n",
       "      <td>-0.004473</td>\n",
       "      <td>-0.000372</td>\n",
       "      <td>-0.000372</td>\n",
       "      <td>-0.578983</td>\n",
       "      <td>1.000000</td>\n",
       "      <td>0.002833</td>\n",
       "      <td>0.002833</td>\n",
       "      <td>-0.000417</td>\n",
       "      <td>-0.002141</td>\n",
       "      <td>0.000774</td>\n",
       "      <td>0.000774</td>\n",
       "      <td>-0.005951</td>\n",
       "      <td>0.005754</td>\n",
       "    </tr>\n",
       "    <tr>\n",
       "      <th>p3</th>\n",
       "      <td>-0.015739</td>\n",
       "      <td>-0.000372</td>\n",
       "      <td>-0.004473</td>\n",
       "      <td>-0.000372</td>\n",
       "      <td>-0.578983</td>\n",
       "      <td>0.002833</td>\n",
       "      <td>1.000000</td>\n",
       "      <td>0.002833</td>\n",
       "      <td>-0.000417</td>\n",
       "      <td>0.000774</td>\n",
       "      <td>-0.002141</td>\n",
       "      <td>0.000774</td>\n",
       "      <td>-0.005951</td>\n",
       "      <td>0.005754</td>\n",
       "    </tr>\n",
       "    <tr>\n",
       "      <th>p4</th>\n",
       "      <td>-0.015739</td>\n",
       "      <td>-0.000372</td>\n",
       "      <td>-0.000372</td>\n",
       "      <td>-0.004473</td>\n",
       "      <td>-0.578983</td>\n",
       "      <td>0.002833</td>\n",
       "      <td>0.002833</td>\n",
       "      <td>1.000000</td>\n",
       "      <td>-0.000417</td>\n",
       "      <td>0.000774</td>\n",
       "      <td>0.000774</td>\n",
       "      <td>-0.002141</td>\n",
       "      <td>-0.005951</td>\n",
       "      <td>0.005754</td>\n",
       "    </tr>\n",
       "    <tr>\n",
       "      <th>g1</th>\n",
       "      <td>0.010521</td>\n",
       "      <td>-0.005832</td>\n",
       "      <td>-0.005832</td>\n",
       "      <td>-0.005832</td>\n",
       "      <td>0.000721</td>\n",
       "      <td>-0.000417</td>\n",
       "      <td>-0.000417</td>\n",
       "      <td>-0.000417</td>\n",
       "      <td>1.000000</td>\n",
       "      <td>0.004718</td>\n",
       "      <td>0.004718</td>\n",
       "      <td>0.004718</td>\n",
       "      <td>0.282774</td>\n",
       "      <td>-0.197664</td>\n",
       "    </tr>\n",
       "    <tr>\n",
       "      <th>g2</th>\n",
       "      <td>0.006522</td>\n",
       "      <td>0.009865</td>\n",
       "      <td>0.002102</td>\n",
       "      <td>0.002102</td>\n",
       "      <td>0.000341</td>\n",
       "      <td>-0.002141</td>\n",
       "      <td>0.000774</td>\n",
       "      <td>0.000774</td>\n",
       "      <td>0.004718</td>\n",
       "      <td>1.000000</td>\n",
       "      <td>-0.006939</td>\n",
       "      <td>-0.006939</td>\n",
       "      <td>0.293684</td>\n",
       "      <td>-0.218015</td>\n",
       "    </tr>\n",
       "    <tr>\n",
       "      <th>g3</th>\n",
       "      <td>0.006522</td>\n",
       "      <td>0.002102</td>\n",
       "      <td>0.009865</td>\n",
       "      <td>0.002102</td>\n",
       "      <td>0.000341</td>\n",
       "      <td>0.000774</td>\n",
       "      <td>-0.002141</td>\n",
       "      <td>0.000774</td>\n",
       "      <td>0.004718</td>\n",
       "      <td>-0.006939</td>\n",
       "      <td>1.000000</td>\n",
       "      <td>-0.006939</td>\n",
       "      <td>0.293684</td>\n",
       "      <td>-0.218015</td>\n",
       "    </tr>\n",
       "    <tr>\n",
       "      <th>g4</th>\n",
       "      <td>0.006522</td>\n",
       "      <td>0.002102</td>\n",
       "      <td>0.002102</td>\n",
       "      <td>0.009865</td>\n",
       "      <td>0.000341</td>\n",
       "      <td>0.000774</td>\n",
       "      <td>0.000774</td>\n",
       "      <td>-0.002141</td>\n",
       "      <td>0.004718</td>\n",
       "      <td>-0.006939</td>\n",
       "      <td>-0.006939</td>\n",
       "      <td>1.000000</td>\n",
       "      <td>0.293684</td>\n",
       "      <td>-0.218015</td>\n",
       "    </tr>\n",
       "    <tr>\n",
       "      <th>stab</th>\n",
       "      <td>0.275761</td>\n",
       "      <td>0.283417</td>\n",
       "      <td>0.283417</td>\n",
       "      <td>0.283417</td>\n",
       "      <td>0.010278</td>\n",
       "      <td>-0.005951</td>\n",
       "      <td>-0.005951</td>\n",
       "      <td>-0.005951</td>\n",
       "      <td>0.282774</td>\n",
       "      <td>0.293684</td>\n",
       "      <td>0.293684</td>\n",
       "      <td>0.293684</td>\n",
       "      <td>1.000000</td>\n",
       "      <td>-0.826959</td>\n",
       "    </tr>\n",
       "    <tr>\n",
       "      <th>stabf</th>\n",
       "      <td>-0.234898</td>\n",
       "      <td>-0.241049</td>\n",
       "      <td>-0.241049</td>\n",
       "      <td>-0.241049</td>\n",
       "      <td>-0.009938</td>\n",
       "      <td>0.005754</td>\n",
       "      <td>0.005754</td>\n",
       "      <td>0.005754</td>\n",
       "      <td>-0.197664</td>\n",
       "      <td>-0.218015</td>\n",
       "      <td>-0.218015</td>\n",
       "      <td>-0.218015</td>\n",
       "      <td>-0.826959</td>\n",
       "      <td>1.000000</td>\n",
       "    </tr>\n",
       "  </tbody>\n",
       "</table>\n",
       "</div>"
      ],
      "text/plain": [
       "           tau1      tau2      tau3      tau4        p1        p2        p3  \\\n",
       "tau1   1.000000 -0.002550 -0.002550 -0.002550  0.027183 -0.015739 -0.015739   \n",
       "tau2  -0.002550  1.000000  0.005554  0.005554  0.003004 -0.004473 -0.000372   \n",
       "tau3  -0.002550  0.005554  1.000000  0.005554  0.003004 -0.000372 -0.004473   \n",
       "tau4  -0.002550  0.005554  0.005554  1.000000  0.003004 -0.000372 -0.000372   \n",
       "p1     0.027183  0.003004  0.003004  0.003004  1.000000 -0.578983 -0.578983   \n",
       "p2    -0.015739 -0.004473 -0.000372 -0.000372 -0.578983  1.000000  0.002833   \n",
       "p3    -0.015739 -0.000372 -0.004473 -0.000372 -0.578983  0.002833  1.000000   \n",
       "p4    -0.015739 -0.000372 -0.000372 -0.004473 -0.578983  0.002833  0.002833   \n",
       "g1     0.010521 -0.005832 -0.005832 -0.005832  0.000721 -0.000417 -0.000417   \n",
       "g2     0.006522  0.009865  0.002102  0.002102  0.000341 -0.002141  0.000774   \n",
       "g3     0.006522  0.002102  0.009865  0.002102  0.000341  0.000774 -0.002141   \n",
       "g4     0.006522  0.002102  0.002102  0.009865  0.000341  0.000774  0.000774   \n",
       "stab   0.275761  0.283417  0.283417  0.283417  0.010278 -0.005951 -0.005951   \n",
       "stabf -0.234898 -0.241049 -0.241049 -0.241049 -0.009938  0.005754  0.005754   \n",
       "\n",
       "             p4        g1        g2        g3        g4      stab     stabf  \n",
       "tau1  -0.015739  0.010521  0.006522  0.006522  0.006522  0.275761 -0.234898  \n",
       "tau2  -0.000372 -0.005832  0.009865  0.002102  0.002102  0.283417 -0.241049  \n",
       "tau3  -0.000372 -0.005832  0.002102  0.009865  0.002102  0.283417 -0.241049  \n",
       "tau4  -0.004473 -0.005832  0.002102  0.002102  0.009865  0.283417 -0.241049  \n",
       "p1    -0.578983  0.000721  0.000341  0.000341  0.000341  0.010278 -0.009938  \n",
       "p2     0.002833 -0.000417 -0.002141  0.000774  0.000774 -0.005951  0.005754  \n",
       "p3     0.002833 -0.000417  0.000774 -0.002141  0.000774 -0.005951  0.005754  \n",
       "p4     1.000000 -0.000417  0.000774  0.000774 -0.002141 -0.005951  0.005754  \n",
       "g1    -0.000417  1.000000  0.004718  0.004718  0.004718  0.282774 -0.197664  \n",
       "g2     0.000774  0.004718  1.000000 -0.006939 -0.006939  0.293684 -0.218015  \n",
       "g3     0.000774  0.004718 -0.006939  1.000000 -0.006939  0.293684 -0.218015  \n",
       "g4    -0.002141  0.004718 -0.006939 -0.006939  1.000000  0.293684 -0.218015  \n",
       "stab  -0.005951  0.282774  0.293684  0.293684  0.293684  1.000000 -0.826959  \n",
       "stabf  0.005754 -0.197664 -0.218015 -0.218015 -0.218015 -0.826959  1.000000  "
      ]
     },
     "execution_count": 58,
     "metadata": {},
     "output_type": "execute_result"
    }
   ],
   "source": [
    "data.corr()"
   ]
  },
  {
   "cell_type": "markdown",
   "metadata": {},
   "source": [
    "### Spliting train and test sets"
   ]
  },
  {
   "cell_type": "markdown",
   "metadata": {},
   "source": [
    "<p style=\"text-align: justify\">As anticipated, the features dataset will contain all 12 original predictive features, while the label dataset will contain only 'stabf' ('stab' is dropped here).</p>\n",
    "<p style=\"text-align: justify\">In addition, as the dataset has already been shuffled, the training set will receive the first 54,000 observations, while the testing set will accommodate the last 6,000.</p>"
   ]
  },
  {
   "cell_type": "code",
   "execution_count": 9,
   "metadata": {},
   "outputs": [],
   "source": [
    "X = data.iloc[:, :12]\n",
    "y = data[\"stabf\"].values\n",
    "\n",
    "# Split the data to Train, and Test (90%, 10%)\n",
    "\n",
    "X_train, X_test, y_train, y_test = train_test_split(X, y, test_size=0.1, random_state=42)\n"
   ]
  },
  {
   "cell_type": "code",
   "execution_count": 10,
   "metadata": {},
   "outputs": [
    {
     "data": {
      "text/plain": [
       "(0.362, 0.638)"
      ]
     },
     "execution_count": 10,
     "metadata": {},
     "output_type": "execute_result"
    }
   ],
   "source": [
    "np.mean(y), np.mean(1-y)"
   ]
  },
  {
   "cell_type": "code",
   "execution_count": 11,
   "metadata": {},
   "outputs": [
    {
     "data": {
      "text/plain": [
       "(54000, 12)"
      ]
     },
     "execution_count": 11,
     "metadata": {},
     "output_type": "execute_result"
    }
   ],
   "source": [
    "X_train.shape"
   ]
  },
  {
   "cell_type": "code",
   "execution_count": 12,
   "metadata": {},
   "outputs": [
    {
     "data": {
      "text/plain": [
       "(54000,)"
      ]
     },
     "execution_count": 12,
     "metadata": {},
     "output_type": "execute_result"
    }
   ],
   "source": [
    "y_train.shape"
   ]
  },
  {
   "cell_type": "markdown",
   "metadata": {},
   "source": [
    "### Feature scaling"
   ]
  },
  {
   "cell_type": "markdown",
   "metadata": {},
   "source": [
    "<p style=\"text-align: justify\">In preparation for machine learning, scaling is performed based on (fitted to) the training set and applied (with the 'transform' method) to both training and testing sets.</p>"
   ]
  },
  {
   "cell_type": "code",
   "execution_count": 13,
   "metadata": {},
   "outputs": [],
   "source": [
    "scaler = StandardScaler()\n",
    "X_train = scaler.fit_transform(X_train)\n",
    "X_test = scaler.transform(X_test)"
   ]
  },
  {
   "cell_type": "code",
   "execution_count": 14,
   "metadata": {},
   "outputs": [
    {
     "data": {
      "text/plain": [
       "array([[-1.19086778e-01, -1.56163839e+00,  9.89381432e-01, ...,\n",
       "         3.04953306e-02, -1.46751237e+00,  1.80204198e-02],\n",
       "       [ 1.71020882e+00,  1.12089273e+00,  1.64729285e+00, ...,\n",
       "         6.49968217e-01, -1.17603727e-01, -5.87522188e-01],\n",
       "       [-5.19021295e-01,  1.58353009e-03, -8.78156107e-01, ...,\n",
       "         5.17566964e-01, -1.68899538e+00,  1.68723151e+00],\n",
       "       ...,\n",
       "       [ 1.04235634e+00,  5.34161694e-01, -2.90534288e-01, ...,\n",
       "        -1.41278635e+00,  7.55331083e-01,  1.63123941e+00],\n",
       "       [ 2.73849212e-01, -9.07753807e-01, -1.08272553e-01, ...,\n",
       "         1.26218742e+00, -1.40593482e+00,  1.72301739e+00],\n",
       "       [ 6.85063076e-01,  1.10548771e+00,  7.20730022e-01, ...,\n",
       "         1.45735783e+00, -9.67856217e-01,  1.29320036e+00]])"
      ]
     },
     "execution_count": 14,
     "metadata": {},
     "output_type": "execute_result"
    }
   ],
   "source": [
    "X_train"
   ]
  },
  {
   "cell_type": "markdown",
   "metadata": {},
   "source": [
    "## Deep Learning\n",
    "Define the Model \n",
    "Input size is 12-dimensional\n",
    "1 hidden layer, 24 hidden nodes, sigmoid activation\n",
    "Final layer has just one node with a sigmoid activation (standard for binary classification)"
   ]
  },
  {
   "cell_type": "code",
   "execution_count": 17,
   "metadata": {},
   "outputs": [],
   "source": [
    "from keras.wrappers.scikit_learn import KerasClassifier\n",
    "from sklearn.model_selection import GridSearchCV"
   ]
  },
  {
   "cell_type": "code",
   "execution_count": 34,
   "metadata": {},
   "outputs": [],
   "source": [
    "Input_dimensions = X.shape[1]\n",
    "def model_creation(layers,activation):\n",
    "    dl_model = Sequential()\n",
    "    for l,nodes in enumerate(layers):\n",
    "        if l==0:\n",
    "            dl_model.add(Dense(nodes,input_dim =Input_dimensions,activation = activation))\n",
    "        else:\n",
    "            dl_model.add(Dense(nodes,activation = activation))\n",
    "          \n",
    "    dl_model.add(Dense(1,activation='sigmoid'))\n",
    "    \n",
    "    dl_model.compile(optimizer = 'adam', loss = 'binary_crossentropy', metrics = ['accuracy'])\n",
    "    return dl_model\n",
    "\n",
    "dl_model = KerasClassifier(build_fn=model_creation, verbose =0)\n",
    "            "
   ]
  },
  {
   "cell_type": "code",
   "execution_count": 35,
   "metadata": {},
   "outputs": [],
   "source": [
    "layers = [[24], [24,24], [24,24,12], [24,24,12,12]]\n",
    "activations = ['sigmoid','relu']\n",
    "param_grid = dict(layers = layers,activation=activations, batch_size = [128,256], epochs=[50])\n",
    "grid = GridSearchCV(estimator=dl_model,param_grid=param_grid)"
   ]
  },
  {
   "cell_type": "code",
   "execution_count": 36,
   "metadata": {},
   "outputs": [],
   "source": [
    "results_grid = grid.fit(X_train,y_train)"
   ]
  },
  {
   "cell_type": "code",
   "execution_count": 37,
   "metadata": {},
   "outputs": [
    {
     "data": {
      "text/plain": [
       "[0.9754999995231628,\n",
       " {'activation': 'relu',\n",
       "  'batch_size': 128,\n",
       "  'epochs': 50,\n",
       "  'layers': [24, 24, 12, 12]}]"
      ]
     },
     "execution_count": 37,
     "metadata": {},
     "output_type": "execute_result"
    }
   ],
   "source": [
    "[results_grid.best_score_,results_grid.best_params_]"
   ]
  },
  {
   "cell_type": "code",
   "execution_count": 38,
   "metadata": {},
   "outputs": [],
   "source": [
    "y_pred = grid.predict(X_test)\n",
    "y_pred[y_pred <= 0.5] = 0\n",
    "y_pred[y_pred > 0.5] = 1"
   ]
  },
  {
   "cell_type": "code",
   "execution_count": 39,
   "metadata": {},
   "outputs": [
    {
     "data": {
      "text/html": [
       "<div>\n",
       "<style scoped>\n",
       "    .dataframe tbody tr th:only-of-type {\n",
       "        vertical-align: middle;\n",
       "    }\n",
       "\n",
       "    .dataframe tbody tr th {\n",
       "        vertical-align: top;\n",
       "    }\n",
       "\n",
       "    .dataframe thead th {\n",
       "        text-align: right;\n",
       "    }\n",
       "</style>\n",
       "<table border=\"1\" class=\"dataframe\">\n",
       "  <thead>\n",
       "    <tr style=\"text-align: right;\">\n",
       "      <th></th>\n",
       "      <th>Predicted Unstable</th>\n",
       "      <th>Predicted Stable</th>\n",
       "    </tr>\n",
       "  </thead>\n",
       "  <tbody>\n",
       "    <tr>\n",
       "      <th>Actual Unstable</th>\n",
       "      <td>3827</td>\n",
       "      <td>31</td>\n",
       "    </tr>\n",
       "    <tr>\n",
       "      <th>Actual Stable</th>\n",
       "      <td>146</td>\n",
       "      <td>1996</td>\n",
       "    </tr>\n",
       "  </tbody>\n",
       "</table>\n",
       "</div>"
      ],
      "text/plain": [
       "                 Predicted Unstable  Predicted Stable\n",
       "Actual Unstable                3827                31\n",
       "Actual Stable                   146              1996"
      ]
     },
     "execution_count": 39,
     "metadata": {},
     "output_type": "execute_result"
    }
   ],
   "source": [
    "cm = pd.DataFrame(data=confusion_matrix(y_test, y_pred, labels=[0, 1]),\n",
    "                  index=[\"Actual Unstable\", \"Actual Stable\"],\n",
    "                  columns=[\"Predicted Unstable\", \"Predicted Stable\"])\n",
    "cm"
   ]
  },
  {
   "cell_type": "code",
   "execution_count": 40,
   "metadata": {},
   "outputs": [
    {
     "name": "stdout",
     "output_type": "stream",
     "text": [
      "Accuracy per the confusion matrix: 97.05%\n"
     ]
    }
   ],
   "source": [
    "print(f'Accuracy per the confusion matrix: {((cm.iloc[0, 0] + cm.iloc[1, 1]) / len(y_test) * 100):.2f}%')"
   ]
  },
  {
   "cell_type": "markdown",
   "metadata": {},
   "source": [
    "## Discussion"
   ]
  },
  {
   "cell_type": "markdown",
   "metadata": {},
   "source": [
    "This exercise provides a better understanding of deep learning approach in case of predicting grid stability. We used GridSearchCV library to get the best parameters for the model such as layers and nodes and activation function. We got 97.05% accuracy of the model. From hyperparameter tuning we got four layers with ReLu activation. \n",
    "For further analysis with this dataset we can increase the number of epochs and it will increase the prediction accuracy.\n"
   ]
  },
  {
   "cell_type": "code",
   "execution_count": 41,
   "metadata": {},
   "outputs": [
    {
     "name": "stdout",
     "output_type": "stream",
     "text": [
      "\n",
      "Start time 2022-09-13 11:41:37.561602\n",
      "End time 2022-09-13 12:28:46.350306\n",
      "Time elapsed 0:47:08.788704\n"
     ]
    }
   ],
   "source": [
    "end_time = datetime.now()\n",
    "\n",
    "print('\\nStart time', start_time)\n",
    "print('End time', end_time)\n",
    "print('Time elapsed', end_time - start_time)"
   ]
  }
 ],
 "metadata": {
  "kernelspec": {
   "display_name": "Python 3 (ipykernel)",
   "language": "python",
   "name": "python3"
  },
  "language_info": {
   "codemirror_mode": {
    "name": "ipython",
    "version": 3
   },
   "file_extension": ".py",
   "mimetype": "text/x-python",
   "name": "python",
   "nbconvert_exporter": "python",
   "pygments_lexer": "ipython3",
   "version": "3.9.12"
  }
 },
 "nbformat": 4,
 "nbformat_minor": 4
}
